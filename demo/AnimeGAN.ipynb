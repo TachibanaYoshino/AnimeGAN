{
  "nbformat": 4,
  "nbformat_minor": 0,
  "metadata": {
    "colab": {
      "name": "AnimeGAN",
      "provenance": [],
      "private_outputs": true
    },
    "kernelspec": {
      "name": "python3",
      "display_name": "Python 3"
    },
    "accelerator": "GPU"
  },
  "cells": [
    {
      "cell_type": "code",
      "metadata": {
        "id": "UWJahStovY4n",
        "colab_type": "code",
        "colab": {}
      },
      "source": [
        "%tensorflow_version 1.x"
      ],
      "execution_count": null,
      "outputs": []
    },
    {
      "cell_type": "code",
      "metadata": {
        "id": "vlGJOHakdS8V",
        "colab_type": "code",
        "colab": {}
      },
      "source": [
        "!git clone https://github.com/TachibanaYoshino/AnimeGAN.git"
      ],
      "execution_count": null,
      "outputs": []
    },
    {
      "cell_type": "code",
      "metadata": {
        "id": "GEYpRiM-d1x9",
        "colab_type": "code",
        "colab": {}
      },
      "source": [
        "%cd AnimeGAN/"
      ],
      "execution_count": null,
      "outputs": []
    },
    {
      "cell_type": "code",
      "metadata": {
        "id": "t_1kZrzoeKWz",
        "colab_type": "code",
        "colab": {}
      },
      "source": [
        "!wget https://github.com/TachibanaYoshino/AnimeGAN/releases/download/Haoyao-style_V1.0/Haoyao-style.zip"
      ],
      "execution_count": null,
      "outputs": []
    },
    {
      "cell_type": "code",
      "metadata": {
        "id": "kIbgiQLzeSf1",
        "colab_type": "code",
        "colab": {}
      },
      "source": [
        "!unzip Haoyao-style.zip -d Haoyao-style"
      ],
      "execution_count": null,
      "outputs": []
    },
    {
      "cell_type": "code",
      "metadata": {
        "id": "87XyAH_HfD1s",
        "colab_type": "code",
        "colab": {}
      },
      "source": [
        "%mkdir -p sample\n",
        "%cd sample\n",
        "from google.colab import files\n",
        "files.upload()\n",
        "%cd .."
      ],
      "execution_count": null,
      "outputs": []
    },
    {
      "cell_type": "code",
      "metadata": {
        "id": "cD2J_fQRfLtj",
        "colab_type": "code",
        "colab": {}
      },
      "source": [
        "!python test.py --checkpoint_dir Haoyao-style --test_dir sample --style_name H"
      ],
      "execution_count": null,
      "outputs": []
    },
    {
      "cell_type": "code",
      "metadata": {
        "id": "lPRmuWeDqunv",
        "colab_type": "code",
        "colab": {}
      },
      "source": [
        "!ls results/H"
      ],
      "execution_count": null,
      "outputs": []
    },
    {
      "cell_type": "code",
      "metadata": {
        "id": "3UUlMhO_rKW2",
        "colab_type": "code",
        "colab": {}
      },
      "source": [
        "from google.colab.patches import cv2_imshow\n",
        "import cv2\n",
        "import glob\n",
        "\n",
        "for i in glob.glob('results/H/*.jpg'):\n",
        "  img = cv2.imread(i, cv2.IMREAD_UNCHANGED)\n",
        "  cv2_imshow(img)"
      ],
      "execution_count": null,
      "outputs": []
    }
  ]
}